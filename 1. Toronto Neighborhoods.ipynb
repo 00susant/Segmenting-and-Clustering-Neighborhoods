{
 "cells": [
  {
   "cell_type": "markdown",
   "id": "diverse-lawyer",
   "metadata": {},
   "source": [
    "# 1. Making Toronto Neighbors Dataset"
   ]
  },
  {
   "cell_type": "code",
   "execution_count": 1,
   "id": "technical-retro",
   "metadata": {},
   "outputs": [],
   "source": [
    "import pandas as pd"
   ]
  },
  {
   "cell_type": "markdown",
   "id": "operating-satellite",
   "metadata": {},
   "source": [
    "### Scraping the wikipedia site"
   ]
  },
  {
   "cell_type": "code",
   "execution_count": 42,
   "id": "dominican-assurance",
   "metadata": {},
   "outputs": [
    {
     "data": {
      "text/plain": [
       "pandas.core.frame.DataFrame"
      ]
     },
     "execution_count": 42,
     "metadata": {},
     "output_type": "execute_result"
    }
   ],
   "source": [
    "url = 'https://en.wikipedia.org/wiki/List_of_postal_codes_of_Canada:_M'\n",
    "x = pd.read_html(url)\n",
    "x = x[0]\n",
    "type(x)"
   ]
  },
  {
   "cell_type": "code",
   "execution_count": 43,
   "id": "elegant-native",
   "metadata": {
    "scrolled": true
   },
   "outputs": [
    {
     "data": {
      "text/plain": [
       "0    M1EScarborough(Guildwood / Morningside / West ...\n",
       "1                                      M2ENot assigned\n",
       "2                                      M3ENot assigned\n",
       "3                         M4EEast Toronto(The Beaches)\n",
       "4                     M5EDowntown Toronto(Berczy Park)\n",
       "5                         M6EYork(Caledonia-Fairbanks)\n",
       "6                                      M7ENot assigned\n",
       "7                                      M8ENot assigned\n",
       "8                                      M9ENot assigned\n",
       "Name: 3, dtype: object"
      ]
     },
     "execution_count": 43,
     "metadata": {},
     "output_type": "execute_result"
    }
   ],
   "source": [
    "x.iloc[3,:]"
   ]
  },
  {
   "cell_type": "markdown",
   "id": "experienced-reynolds",
   "metadata": {},
   "source": [
    "### Wrangling raw data"
   ]
  },
  {
   "cell_type": "code",
   "execution_count": 47,
   "id": "delayed-situation",
   "metadata": {},
   "outputs": [],
   "source": [
    "list_of_rows = []\n",
    "\n",
    "for i in range(20):\n",
    "    #print(i)\n",
    "    #print(list(x.iloc[i,:]))\n",
    "    raw_row = list(x.iloc[i,:])\n",
    "    \n",
    "    for item in raw_row:\n",
    "        if 'Not assigned' in item:\n",
    "            pass\n",
    "        else:\n",
    "            list_of_rows.append(item)\n",
    "    \n",
    "\n",
    "                "
   ]
  },
  {
   "cell_type": "markdown",
   "id": "saved-connection",
   "metadata": {},
   "source": [
    "### Making Dataframe"
   ]
  },
  {
   "cell_type": "code",
   "execution_count": 66,
   "id": "rocky-battery",
   "metadata": {},
   "outputs": [],
   "source": [
    "postal_code = []\n",
    "borough = []\n",
    "neighborhood = []\n",
    "for row in list_of_rows:\n",
    "    postal_code.append(row[:3])\n",
    "    #print(pc)\n",
    "    new_row = row[3:]\n",
    "    #print(new_row)\n",
    "    #print(new_row.split('('))\n",
    "    \n",
    "    new_row_list = new_row.split('(')\n",
    "    borough.append(new_row_list[0])\n",
    "    \n",
    "    #print(borough)\n",
    "    \n",
    "    \n",
    "    neighborhood_item = (new_row_list[1].replace(')', ''))\n",
    "    #print(neighborhood_item)\n",
    "    #case = \"//\"\n",
    "    if '/' in neighborhood_item:\n",
    "        neighborhood_item = neighborhood_item.replace(' /', ',')\n",
    "        \n",
    "        \n",
    "    neighborhood.append(neighborhood_item)\n",
    "    #print(neighborhood) \n",
    "    #break\n",
    "    \n",
    "#print(postal_code)\n",
    "#print(borough)\n",
    "#print(neighborhood)\n",
    "    \n",
    "dict_data = {'PostalCode': postal_code, 'Borough': borough, 'Neighborhood': neighborhood}\n",
    "df = pd.DataFrame.from_dict(dict_data)"
   ]
  },
  {
   "cell_type": "markdown",
   "id": "violent-coordinator",
   "metadata": {},
   "source": [
    "### Finalizing"
   ]
  },
  {
   "cell_type": "code",
   "execution_count": 68,
   "id": "seasonal-graphic",
   "metadata": {},
   "outputs": [
    {
     "data": {
      "text/html": [
       "<div>\n",
       "<style scoped>\n",
       "    .dataframe tbody tr th:only-of-type {\n",
       "        vertical-align: middle;\n",
       "    }\n",
       "\n",
       "    .dataframe tbody tr th {\n",
       "        vertical-align: top;\n",
       "    }\n",
       "\n",
       "    .dataframe thead th {\n",
       "        text-align: right;\n",
       "    }\n",
       "</style>\n",
       "<table border=\"1\" class=\"dataframe\">\n",
       "  <thead>\n",
       "    <tr style=\"text-align: right;\">\n",
       "      <th></th>\n",
       "      <th>PostalCode</th>\n",
       "      <th>Borough</th>\n",
       "      <th>Neighborhood</th>\n",
       "    </tr>\n",
       "  </thead>\n",
       "  <tbody>\n",
       "    <tr>\n",
       "      <td>0</td>\n",
       "      <td>M3A</td>\n",
       "      <td>North York</td>\n",
       "      <td>Parkwoods</td>\n",
       "    </tr>\n",
       "    <tr>\n",
       "      <td>1</td>\n",
       "      <td>M4A</td>\n",
       "      <td>North York</td>\n",
       "      <td>Victoria Village</td>\n",
       "    </tr>\n",
       "    <tr>\n",
       "      <td>2</td>\n",
       "      <td>M5A</td>\n",
       "      <td>Downtown Toronto</td>\n",
       "      <td>Regent Park, Harbourfront</td>\n",
       "    </tr>\n",
       "    <tr>\n",
       "      <td>3</td>\n",
       "      <td>M6A</td>\n",
       "      <td>North York</td>\n",
       "      <td>Lawrence Manor, Lawrence Heights</td>\n",
       "    </tr>\n",
       "    <tr>\n",
       "      <td>4</td>\n",
       "      <td>M7A</td>\n",
       "      <td>Queen's Park</td>\n",
       "      <td>Ontario Provincial Government</td>\n",
       "    </tr>\n",
       "  </tbody>\n",
       "</table>\n",
       "</div>"
      ],
      "text/plain": [
       "  PostalCode           Borough                      Neighborhood\n",
       "0        M3A        North York                         Parkwoods\n",
       "1        M4A        North York                  Victoria Village\n",
       "2        M5A  Downtown Toronto         Regent Park, Harbourfront\n",
       "3        M6A        North York  Lawrence Manor, Lawrence Heights\n",
       "4        M7A      Queen's Park     Ontario Provincial Government"
      ]
     },
     "execution_count": 68,
     "metadata": {},
     "output_type": "execute_result"
    }
   ],
   "source": [
    "df.head()"
   ]
  },
  {
   "cell_type": "code",
   "execution_count": 69,
   "id": "potential-numbers",
   "metadata": {},
   "outputs": [
    {
     "data": {
      "text/html": [
       "<div>\n",
       "<style scoped>\n",
       "    .dataframe tbody tr th:only-of-type {\n",
       "        vertical-align: middle;\n",
       "    }\n",
       "\n",
       "    .dataframe tbody tr th {\n",
       "        vertical-align: top;\n",
       "    }\n",
       "\n",
       "    .dataframe thead th {\n",
       "        text-align: right;\n",
       "    }\n",
       "</style>\n",
       "<table border=\"1\" class=\"dataframe\">\n",
       "  <thead>\n",
       "    <tr style=\"text-align: right;\">\n",
       "      <th></th>\n",
       "      <th>PostalCode</th>\n",
       "      <th>Borough</th>\n",
       "      <th>Neighborhood</th>\n",
       "    </tr>\n",
       "  </thead>\n",
       "  <tbody>\n",
       "    <tr>\n",
       "      <td>83</td>\n",
       "      <td>M4T</td>\n",
       "      <td>Central Toronto</td>\n",
       "      <td>Moore Park, Summerhill East</td>\n",
       "    </tr>\n",
       "    <tr>\n",
       "      <td>84</td>\n",
       "      <td>M5T</td>\n",
       "      <td>Downtown Toronto</td>\n",
       "      <td>Kensington Market, Chinatown, Grange Park</td>\n",
       "    </tr>\n",
       "    <tr>\n",
       "      <td>85</td>\n",
       "      <td>M1V</td>\n",
       "      <td>Scarborough</td>\n",
       "      <td>Milliken, Agincourt North, Steeles East, L'Amo...</td>\n",
       "    </tr>\n",
       "    <tr>\n",
       "      <td>86</td>\n",
       "      <td>M4V</td>\n",
       "      <td>Central Toronto</td>\n",
       "      <td>Summerhill West, Rathnelly, South Hill, Forest...</td>\n",
       "    </tr>\n",
       "    <tr>\n",
       "      <td>87</td>\n",
       "      <td>M5V</td>\n",
       "      <td>Downtown Toronto</td>\n",
       "      <td>CN Tower, King and Spadina, Railway Lands, Har...</td>\n",
       "    </tr>\n",
       "    <tr>\n",
       "      <td>88</td>\n",
       "      <td>M8V</td>\n",
       "      <td>Etobicoke</td>\n",
       "      <td>New Toronto, Mimico South, Humber Bay Shores</td>\n",
       "    </tr>\n",
       "    <tr>\n",
       "      <td>89</td>\n",
       "      <td>M9V</td>\n",
       "      <td>Etobicoke</td>\n",
       "      <td>South Steeles, Silverstone, Humbergate, Jamest...</td>\n",
       "    </tr>\n",
       "    <tr>\n",
       "      <td>90</td>\n",
       "      <td>M1W</td>\n",
       "      <td>Scarborough</td>\n",
       "      <td>Steeles West, L'Amoreaux West</td>\n",
       "    </tr>\n",
       "    <tr>\n",
       "      <td>91</td>\n",
       "      <td>M4W</td>\n",
       "      <td>Downtown Toronto</td>\n",
       "      <td>Rosedale</td>\n",
       "    </tr>\n",
       "    <tr>\n",
       "      <td>92</td>\n",
       "      <td>M5W</td>\n",
       "      <td>Downtown TorontoStn A PO Boxes25 The Esplanade</td>\n",
       "      <td>Enclave of M5E</td>\n",
       "    </tr>\n",
       "    <tr>\n",
       "      <td>93</td>\n",
       "      <td>M8W</td>\n",
       "      <td>Etobicoke</td>\n",
       "      <td>Alderwood, Long Branch</td>\n",
       "    </tr>\n",
       "    <tr>\n",
       "      <td>94</td>\n",
       "      <td>M9W</td>\n",
       "      <td>EtobicokeNorthwest</td>\n",
       "      <td>Clairville, Humberwood, Woodbine Downs, West H...</td>\n",
       "    </tr>\n",
       "    <tr>\n",
       "      <td>95</td>\n",
       "      <td>M1X</td>\n",
       "      <td>Scarborough</td>\n",
       "      <td>Upper Rouge</td>\n",
       "    </tr>\n",
       "    <tr>\n",
       "      <td>96</td>\n",
       "      <td>M4X</td>\n",
       "      <td>Downtown Toronto</td>\n",
       "      <td>St. James Town, Cabbagetown</td>\n",
       "    </tr>\n",
       "    <tr>\n",
       "      <td>97</td>\n",
       "      <td>M5X</td>\n",
       "      <td>Downtown Toronto</td>\n",
       "      <td>First Canadian Place, Underground city</td>\n",
       "    </tr>\n",
       "    <tr>\n",
       "      <td>98</td>\n",
       "      <td>M8X</td>\n",
       "      <td>Etobicoke</td>\n",
       "      <td>The Kingsway, Montgomery Road, Old Mill North</td>\n",
       "    </tr>\n",
       "    <tr>\n",
       "      <td>99</td>\n",
       "      <td>M4Y</td>\n",
       "      <td>Downtown Toronto</td>\n",
       "      <td>Church and Wellesley</td>\n",
       "    </tr>\n",
       "    <tr>\n",
       "      <td>100</td>\n",
       "      <td>M7Y</td>\n",
       "      <td>East TorontoBusiness reply mail Processing Cen...</td>\n",
       "      <td>Enclave of M4L</td>\n",
       "    </tr>\n",
       "    <tr>\n",
       "      <td>101</td>\n",
       "      <td>M8Y</td>\n",
       "      <td>Etobicoke</td>\n",
       "      <td>Old Mill South, King's Mill Park, Sunnylea, Hu...</td>\n",
       "    </tr>\n",
       "    <tr>\n",
       "      <td>102</td>\n",
       "      <td>M8Z</td>\n",
       "      <td>Etobicoke</td>\n",
       "      <td>Mimico NW, The Queensway West, South of Bloor,...</td>\n",
       "    </tr>\n",
       "  </tbody>\n",
       "</table>\n",
       "</div>"
      ],
      "text/plain": [
       "    PostalCode                                            Borough  \\\n",
       "83         M4T                                    Central Toronto   \n",
       "84         M5T                                   Downtown Toronto   \n",
       "85         M1V                                        Scarborough   \n",
       "86         M4V                                    Central Toronto   \n",
       "87         M5V                                   Downtown Toronto   \n",
       "88         M8V                                          Etobicoke   \n",
       "89         M9V                                          Etobicoke   \n",
       "90         M1W                                        Scarborough   \n",
       "91         M4W                                   Downtown Toronto   \n",
       "92         M5W     Downtown TorontoStn A PO Boxes25 The Esplanade   \n",
       "93         M8W                                          Etobicoke   \n",
       "94         M9W                                 EtobicokeNorthwest   \n",
       "95         M1X                                        Scarborough   \n",
       "96         M4X                                   Downtown Toronto   \n",
       "97         M5X                                   Downtown Toronto   \n",
       "98         M8X                                          Etobicoke   \n",
       "99         M4Y                                   Downtown Toronto   \n",
       "100        M7Y  East TorontoBusiness reply mail Processing Cen...   \n",
       "101        M8Y                                          Etobicoke   \n",
       "102        M8Z                                          Etobicoke   \n",
       "\n",
       "                                          Neighborhood  \n",
       "83                         Moore Park, Summerhill East  \n",
       "84           Kensington Market, Chinatown, Grange Park  \n",
       "85   Milliken, Agincourt North, Steeles East, L'Amo...  \n",
       "86   Summerhill West, Rathnelly, South Hill, Forest...  \n",
       "87   CN Tower, King and Spadina, Railway Lands, Har...  \n",
       "88        New Toronto, Mimico South, Humber Bay Shores  \n",
       "89   South Steeles, Silverstone, Humbergate, Jamest...  \n",
       "90                       Steeles West, L'Amoreaux West  \n",
       "91                                            Rosedale  \n",
       "92                                      Enclave of M5E  \n",
       "93                              Alderwood, Long Branch  \n",
       "94   Clairville, Humberwood, Woodbine Downs, West H...  \n",
       "95                                         Upper Rouge  \n",
       "96                         St. James Town, Cabbagetown  \n",
       "97              First Canadian Place, Underground city  \n",
       "98       The Kingsway, Montgomery Road, Old Mill North  \n",
       "99                                Church and Wellesley  \n",
       "100                                     Enclave of M4L  \n",
       "101  Old Mill South, King's Mill Park, Sunnylea, Hu...  \n",
       "102  Mimico NW, The Queensway West, South of Bloor,...  "
      ]
     },
     "execution_count": 69,
     "metadata": {},
     "output_type": "execute_result"
    }
   ],
   "source": [
    "df.tail(20)"
   ]
  },
  {
   "cell_type": "markdown",
   "id": "cheap-voluntary",
   "metadata": {},
   "source": [
    "### Exporting as CSV"
   ]
  },
  {
   "cell_type": "code",
   "execution_count": 71,
   "id": "destroyed-history",
   "metadata": {},
   "outputs": [],
   "source": [
    "df.to_csv('toronto_neighbor.csv', index = False)"
   ]
  },
  {
   "cell_type": "code",
   "execution_count": null,
   "id": "confused-faith",
   "metadata": {},
   "outputs": [],
   "source": []
  }
 ],
 "metadata": {
  "kernelspec": {
   "display_name": "Python 3",
   "language": "python",
   "name": "python3"
  },
  "language_info": {
   "codemirror_mode": {
    "name": "ipython",
    "version": 3
   },
   "file_extension": ".py",
   "mimetype": "text/x-python",
   "name": "python",
   "nbconvert_exporter": "python",
   "pygments_lexer": "ipython3",
   "version": "3.7.6"
  }
 },
 "nbformat": 4,
 "nbformat_minor": 5
}
